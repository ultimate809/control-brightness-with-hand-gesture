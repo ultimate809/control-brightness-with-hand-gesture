{
 "cells": [
  {
   "cell_type": "code",
   "execution_count": 17,
   "metadata": {},
   "outputs": [],
   "source": [
    "import cv2\n",
    "import numpy as np\n",
    "import time\n",
    "import os\n",
    "import tkinter as tk\n",
    "from tkinter import *"
   ]
  },
  {
   "cell_type": "code",
   "execution_count": 18,
   "metadata": {},
   "outputs": [],
   "source": [
    "face_cas=cv2.CascadeClassifier('haarcascade_frontalface_default.xml')\n",
    "eye_cas=cv2.CascadeClassifier('haarcascade_eye.xml')\n",
    "eye_cas2=cv2.CascadeClassifier('eye_cascade.xml')\n",
    "smile_cas=cv2.CascadeClassifier('smile.xml')\n",
    "palm_cas=cv2.CascadeClassifier('palm.xml')\n",
    "open_palm_cas=cv2.CascadeClassifier('open_palm.xml')\n",
    "closed_palm_cas=cv2.CascadeClassifier('closed_palm.xml')"
   ]
  },
  {
   "cell_type": "code",
   "execution_count": 19,
   "metadata": {},
   "outputs": [],
   "source": [
    "open_count=0\n",
    "closed_count=0\n",
    "fo=0\n",
    "fc=0\n",
    "exit1=0"
   ]
  },
  {
   "cell_type": "code",
   "execution_count": 20,
   "metadata": {},
   "outputs": [],
   "source": [
    "cap = cv2.VideoCapture(1)"
   ]
  },
  {
   "cell_type": "code",
   "execution_count": 21,
   "metadata": {},
   "outputs": [],
   "source": [
    "def countdown(i):\n",
    "    label=Label(w, text=str(i))\n",
    "    label.place(relx=0.45, rely=0.45)\n",
    "    label.configure(font=(\"Courier\", 40),foreground='blue',background='green')"
   ]
  },
  {
   "cell_type": "code",
   "execution_count": 22,
   "metadata": {},
   "outputs": [],
   "source": [
    "w = tk.Tk()\n",
    "w.geometry(\"350x350\")\n",
    "label1=Label(w, text=\"Shaurya ne banaya hai\")\n",
    "label1.place(relx=0.58, rely=0.95)\n",
    "w.configure(background='red')\n",
    "\n",
    "w.after(0, lambda: countdown(3) )\n",
    "w.after(1000, lambda: countdown(2) )\n",
    "w.after(2000, lambda: countdown(1) )\n",
    "w.after(3000, lambda: countdown(\"GO\") )\n",
    "w.after(3200, lambda: w.destroy() )\n",
    "w.mainloop()"
   ]
  },
  {
   "cell_type": "code",
   "execution_count": 23,
   "metadata": {},
   "outputs": [],
   "source": [
    "while True:\n",
    "    ret,img=cap.read()\n",
    "    gray = cv2.cvtColor(img,cv2.COLOR_BGR2GRAY)\n",
    "    \n",
    "    open_palm=open_palm_cas.detectMultiScale(gray,1.3,5)                   #open palm detection \n",
    "    for  x , y , w, h in open_palm:\n",
    "        cv2.rectangle(img , (x,y) , (x+w,y+h) , (0,255,0), 2)\n",
    "    if len(open_palm)>0:\n",
    "        open_count+=1\n",
    "        \n",
    "        \n",
    "    closed_palm=closed_palm_cas.detectMultiScale(gray,1.3,5)                #closed palm detection \n",
    "    for  x , y , w, h in closed_palm:\n",
    "        cv2.rectangle(img , (x,y) , (x+w,y+h) , (255,0,0), 2)\n",
    "    if len(closed_palm)>0:\n",
    "        closed_count+=1\n",
    "    \n",
    "    \n",
    "    if open_count>12 :\n",
    "        fo=1\n",
    "        exit1=1\n",
    "    elif closed_count>12 :\n",
    "        fc=1\n",
    "        exit1=1\n",
    "        \n",
    "        \n",
    "    cv2.imshow('img',img)\n",
    "    k=cv2.waitKey(30) & 0xff\n",
    "    if k==27 or exit1==1:\n",
    "        break\n",
    "cap.release()\n",
    "cv2.destroyAllWindows()"
   ]
  },
  {
   "cell_type": "code",
   "execution_count": 24,
   "metadata": {},
   "outputs": [
    {
     "name": "stdout",
     "output_type": "stream",
     "text": [
      "0\n",
      "13\n"
     ]
    }
   ],
   "source": [
    "print(open_count)\n",
    "print(closed_count)"
   ]
  },
  {
   "cell_type": "code",
   "execution_count": 25,
   "metadata": {},
   "outputs": [],
   "source": [
    "open_count=0\n",
    "closed_count=0\n",
    "lo=0\n",
    "lc=0\n",
    "exit2=0"
   ]
  },
  {
   "cell_type": "code",
   "execution_count": 26,
   "metadata": {},
   "outputs": [],
   "source": [
    "time.sleep(1)"
   ]
  },
  {
   "cell_type": "code",
   "execution_count": 27,
   "metadata": {},
   "outputs": [],
   "source": [
    "cap = cv2.VideoCapture(1)"
   ]
  },
  {
   "cell_type": "code",
   "execution_count": 28,
   "metadata": {},
   "outputs": [],
   "source": [
    "while True:\n",
    "    ret,img=cap.read()\n",
    "    gray = cv2.cvtColor(img,cv2.COLOR_BGR2GRAY)\n",
    "    \n",
    "    open_palm=open_palm_cas.detectMultiScale(gray,1.3,5)                   #open palm detection \n",
    "    for  x , y , w, h in open_palm:\n",
    "        cv2.rectangle(img , (x,y) , (x+w,y+h) , (0,255,0), 2)\n",
    "    if len(open_palm)>0:\n",
    "        open_count+=1\n",
    "        \n",
    "        \n",
    "    closed_palm=closed_palm_cas.detectMultiScale(gray,1.3,5)                #closed palm detection \n",
    "    for  x , y , w, h in closed_palm:\n",
    "        cv2.rectangle(img , (x,y) , (x+w,y+h) , (255,0,0), 2)\n",
    "    if len(closed_palm)>0:\n",
    "        closed_count+=1\n",
    "    \n",
    "    \n",
    "    if open_count>12 :\n",
    "        lo=1\n",
    "        exit2=1\n",
    "    elif closed_count>12 :\n",
    "        lc=1\n",
    "        exit2=1\n",
    "        \n",
    "        \n",
    "    cv2.imshow('img',img)\n",
    "    k=cv2.waitKey(30) & 0xff\n",
    "    if k==27 or exit2==1:\n",
    "        break\n",
    "cap.release()\n",
    "cv2.destroyAllWindows()"
   ]
  },
  {
   "cell_type": "code",
   "execution_count": 29,
   "metadata": {},
   "outputs": [],
   "source": [
    "def contant():\n",
    "    print(\"Brightneess remains constant\")"
   ]
  },
  {
   "cell_type": "code",
   "execution_count": 30,
   "metadata": {},
   "outputs": [],
   "source": [
    "def reduce():\n",
    "    os.system('xbacklight -dec 40')"
   ]
  },
  {
   "cell_type": "code",
   "execution_count": 31,
   "metadata": {},
   "outputs": [],
   "source": [
    "def increase():\n",
    "    os.system('xbacklight -inc 40')"
   ]
  },
  {
   "cell_type": "code",
   "execution_count": 32,
   "metadata": {},
   "outputs": [],
   "source": [
    "if fo==1 and lo==1 :\n",
    "    constant()\n",
    "elif fc==1 and lc==1:\n",
    "    constant()\n",
    "elif fo==1 and lc==1:\n",
    "    reduce()\n",
    "elif fc==1 and lo==1:\n",
    "    increase()"
   ]
  }
 ],
 "metadata": {
  "kernelspec": {
   "display_name": "Python 3",
   "language": "python",
   "name": "python3"
  },
  "language_info": {
   "codemirror_mode": {
    "name": "ipython",
    "version": 3
   },
   "file_extension": ".py",
   "mimetype": "text/x-python",
   "name": "python",
   "nbconvert_exporter": "python",
   "pygments_lexer": "ipython3",
   "version": "3.5.2"
  }
 },
 "nbformat": 4,
 "nbformat_minor": 2
}
